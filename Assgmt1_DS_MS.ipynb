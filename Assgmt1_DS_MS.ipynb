{
 "cells": [
  {
   "cell_type": "code",
   "execution_count": 2,
   "id": "2c6561b8",
   "metadata": {},
   "outputs": [],
   "source": [
    "# Q1. \n",
    "\n",
    "#Create one variable containing following type of data:\n",
    "# (i) string\n",
    "\n",
    "my_puppy = 'clowy'\n",
    "\n",
    "\n",
    "# (ii) list\n",
    "\n",
    "todolist = ['Gym', 'groceries', 100, 4+ 3j]\n",
    "\n",
    "\n",
    "# (iii) float\n",
    "\n",
    "idk = 4.7860\n",
    "\n",
    "# (iv) tuple\n",
    "\n",
    "my_tuple = ('no me dejes en visto', 2.5, 1, (5,3,5))\n",
    "\n"
   ]
  },
  {
   "cell_type": "code",
   "execution_count": 12,
   "id": "ff39726c",
   "metadata": {},
   "outputs": [
    {
     "name": "stdout",
     "output_type": "stream",
     "text": [
      "<class 'str'>\n",
      "<class 'str'>\n",
      "<class 'list'>\n",
      "<class 'int'>\n"
     ]
    }
   ],
   "source": [
    "# Q2. \n",
    "\n",
    "# Given are some following variables containing data:\n",
    "\n",
    "\n",
    "# (i) var1 = ‘ ‘ // string\n",
    "\n",
    "var1 = ''\n",
    "\n",
    "print(type(var1))\n",
    "\n",
    "\n",
    "# (ii) var2 = ‘[ DS , ML , Python]’ // list ? No string\n",
    "\n",
    "var2 = '[ DS , ML , Python]'\n",
    "\n",
    "print(type(var2))\n",
    "\n",
    "\n",
    "# (iii) var3 = [ ‘DS’ , ’ML’ , ‘Python’ ] // List\n",
    "\n",
    "var3 = [ 'DS', 'ML' , 'Python']\n",
    "\n",
    "print(type(var3))\n",
    "\n",
    "\n",
    "# (iv) var4 = 1. / int \n",
    "\n",
    "var4 = 1\n",
    "\n",
    "\n",
    "print(type(var4))\n",
    "\n",
    "# What will be the data type of the above given variable?\n",
    "\n",
    "\n",
    "\n"
   ]
  },
  {
   "cell_type": "code",
   "execution_count": 15,
   "id": "0b87ce7b",
   "metadata": {},
   "outputs": [
    {
     "data": {
      "text/plain": [
       "1"
      ]
     },
     "execution_count": 15,
     "metadata": {},
     "output_type": "execute_result"
    }
   ],
   "source": [
    "#Q3. \n",
    "\n",
    "#Explain the use of the following operators using an example:\n",
    "#(i) / division\n",
    "\n",
    "n = 4 / 2 \n",
    "n\n",
    "\n",
    "\n",
    "\n",
    "\n",
    "#(ii) %\n",
    "\n",
    "s = 4 % 3\n",
    "\n",
    "s \n",
    "\n",
    "#(iii) //\n",
    "\n",
    "\n",
    "4 // 3\n",
    "\n",
    "\n",
    "\n",
    "\n",
    "#(iv) **"
   ]
  },
  {
   "cell_type": "code",
   "execution_count": 19,
   "id": "6fb61cf2",
   "metadata": {},
   "outputs": [],
   "source": [
    "\n",
    "dd = [34, 35, 'lola', True, 6 + 5j]"
   ]
  },
  {
   "cell_type": "code",
   "execution_count": 22,
   "id": "8d952217",
   "metadata": {},
   "outputs": [
    {
     "name": "stdout",
     "output_type": "stream",
     "text": [
      "34 <class 'int'>\n",
      "35 <class 'int'>\n",
      "lola <class 'str'>\n",
      "True <class 'bool'>\n",
      "(6+5j) <class 'complex'>\n",
      "Default message\n"
     ]
    }
   ],
   "source": [
    "# Q4. \n",
    "\n",
    "#Create a list of length 10 of your choice containing multiple types of data. \n",
    "\n",
    "# Using for loop print the\n",
    "# element and its data type.\n",
    "\n",
    "\n",
    "for j in dd:\n",
    "    print(j, type(j))\n",
    "else: \n",
    "    print('Default message')\n",
    "    \n",
    "\n",
    "\n"
   ]
  },
  {
   "cell_type": "code",
   "execution_count": 18,
   "id": "d285d99e",
   "metadata": {},
   "outputs": [],
   "source": [
    "# Q5. \n",
    "\n",
    "#Using a while loop, verify if the number A is purely divisible \n",
    "#by number B and if so then how many times it can be divisible.\n",
    "\n",
    "\n",
    "\n",
    "\n",
    "\n",
    "\n",
    "\n"
   ]
  },
  {
   "cell_type": "code",
   "execution_count": 31,
   "id": "26e6857a",
   "metadata": {},
   "outputs": [
    {
     "name": "stdout",
     "output_type": "stream",
     "text": [
      "3\n",
      "6\n",
      "9\n",
      "18\n",
      "24\n",
      "42\n",
      "33\n",
      "99\n",
      "Numbers not included are not divisible by 3\n"
     ]
    }
   ],
   "source": [
    "# Q6. \n",
    "\n",
    "\n",
    "\n",
    "#Create a list containing 25 int type data.\n",
    "#Using for loop and if-else condition print if the element is\n",
    "#divisible by 3 or not.\n",
    "\n",
    "mg = [ 32, 3, 4, 5 , 6 , 79, 10, 83, \n",
    "     9, 18, 98, 24, 61, 43, 23, 56, \n",
    "     74, 42, 17, 89, 14, 7, 94, 33,99]\n",
    "    \n",
    "for j in mg: \n",
    "    if j % 3 == 0: # '%' stands for modulo, so if remainder\n",
    "                   # is 0 means its exactly divisible by 3\n",
    "        print(j)\n",
    "    continue\n",
    "else: \n",
    "    print('Numbers not included are not divisible by 3')\n",
    "\n",
    "\n",
    "\n",
    "\n",
    "\n",
    "\n"
   ]
  },
  {
   "cell_type": "code",
   "execution_count": null,
   "id": "0e7e2d36",
   "metadata": {},
   "outputs": [],
   "source": []
  },
  {
   "cell_type": "code",
   "execution_count": 32,
   "id": "6c40b998",
   "metadata": {},
   "outputs": [
    {
     "data": {
      "text/plain": [
       "[1, 2, 3, 7, 'kookie', (4+5j)]"
      ]
     },
     "execution_count": 32,
     "metadata": {},
     "output_type": "execute_result"
    }
   ],
   "source": [
    "# Q7. \n",
    "\n",
    "#What do you understand about mutable and immutable data types? Give examples for both showing\n",
    "#this property.\n",
    "\n",
    "# mutable datatypes are those that can be changed, whereas\n",
    "# inmutable are those that cant be changed \n",
    "\n",
    "# Strings for ex, are inmutable while lists are not\n",
    "\n",
    "\n",
    "#eg\n",
    "\n",
    "list = [1, 2, 3, 7, 'hola', 4 + 5j]\n",
    "\n",
    "\n",
    "# we can reasign a value on the index we select\n",
    "\n",
    "list[4] = 'kookie'\n",
    "\n",
    "list"
   ]
  },
  {
   "cell_type": "code",
   "execution_count": 34,
   "id": "09bf68c3",
   "metadata": {},
   "outputs": [
    {
     "ename": "TypeError",
     "evalue": "'str' object does not support item assignment",
     "output_type": "error",
     "traceback": [
      "\u001b[1;31m---------------------------------------------------------------------------\u001b[0m",
      "\u001b[1;31mTypeError\u001b[0m                                 Traceback (most recent call last)",
      "Cell \u001b[1;32mIn[34], line 6\u001b[0m\n\u001b[0;32m      1\u001b[0m \u001b[38;5;66;03m# eg2\u001b[39;00m\n\u001b[0;32m      3\u001b[0m s \u001b[38;5;241m=\u001b[39m \u001b[38;5;124m'\u001b[39m\u001b[38;5;124msunil\u001b[39m\u001b[38;5;124m'\u001b[39m\n\u001b[1;32m----> 6\u001b[0m s[\u001b[38;5;241m2\u001b[39m] \u001b[38;5;241m=\u001b[39m \u001b[38;5;124m'\u001b[39m\u001b[38;5;124md\u001b[39m\u001b[38;5;124m'\u001b[39m\n\u001b[0;32m      7\u001b[0m s\n",
      "\u001b[1;31mTypeError\u001b[0m: 'str' object does not support item assignment"
     ]
    }
   ],
   "source": [
    "# eg2\n",
    "\n",
    "s = 'sunil'\n",
    "\n",
    "\n",
    "s[2] = 'd'\n",
    "s"
   ]
  },
  {
   "cell_type": "code",
   "execution_count": null,
   "id": "d130089f",
   "metadata": {},
   "outputs": [],
   "source": []
  }
 ],
 "metadata": {
  "kernelspec": {
   "display_name": "Python 3 (ipykernel)",
   "language": "python",
   "name": "python3"
  },
  "language_info": {
   "codemirror_mode": {
    "name": "ipython",
    "version": 3
   },
   "file_extension": ".py",
   "mimetype": "text/x-python",
   "name": "python",
   "nbconvert_exporter": "python",
   "pygments_lexer": "ipython3",
   "version": "3.10.9"
  }
 },
 "nbformat": 4,
 "nbformat_minor": 5
}
